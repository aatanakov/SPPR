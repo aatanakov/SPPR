{
 "cells": [
  {
   "cell_type": "code",
   "execution_count": 1,
   "metadata": {
    "_cell_guid": "b1076dfc-b9ad-4769-8c92-a6c4dae69d19",
    "_uuid": "8f2839f25d086af736a60e9eeb907d3b93b6e0e5",
    "execution": {
     "iopub.execute_input": "2022-12-30T12:59:55.194519Z",
     "iopub.status.busy": "2022-12-30T12:59:55.194029Z",
     "iopub.status.idle": "2022-12-30T12:59:55.205084Z",
     "shell.execute_reply": "2022-12-30T12:59:55.203319Z",
     "shell.execute_reply.started": "2022-12-30T12:59:55.194481Z"
    }
   },
   "outputs": [],
   "source": [
    "import numpy as np\n",
    "import pandas as pd\n",
    "import math\n",
    "import json\n",
    "import time\n",
    "from sklearn.model_selection import train_test_split\n",
    "import scipy.sparse\n",
    "from scipy.sparse import csr_matrix\n",
    "import warnings; warnings.simplefilter('ignore')\n",
    "%matplotlib inline\n",
    "import matplotlib.pyplot as plt\n",
    "import seaborn as sns\n",
    "from surprise import Dataset,Reader\n",
    "import pickle\n",
    "from sklearn.metrics.pairwise import cosine_similarity"
   ]
  },
  {
   "cell_type": "code",
   "execution_count": 12,
   "metadata": {
    "execution": {
     "iopub.execute_input": "2022-12-30T12:59:55.645019Z",
     "iopub.status.busy": "2022-12-30T12:59:55.644628Z",
     "iopub.status.idle": "2022-12-30T12:59:55.659220Z",
     "shell.execute_reply": "2022-12-30T12:59:55.657932Z",
     "shell.execute_reply.started": "2022-12-30T12:59:55.644987Z"
    }
   },
   "outputs": [],
   "source": [
    "def prediction_books(uid):\n",
    "\tmodel = pickle.load(open('model.sav', 'rb'))\n",
    "\tratings = pd.read_csv('BX-Book-Ratings.csv', sep=';', error_bad_lines=False, encoding=\"latin-1\",warn_bad_lines=False)\n",
    "\tratings.columns = ['userID', 'ISBN', 'bookRating']\n",
    "\tbooks = pd.read_csv(\"BX-Books.csv\", sep=\";\", error_bad_lines=False, encoding=\"latin-1\",warn_bad_lines=False);\n",
    "\tbooks.columns = ['ISBN', 'bookTitle', 'bookAuthor', 'yearOfPublication', 'publisher', 'imageUrlS', 'imageUrlM', 'imageUrlL'];\n",
    "\tusers = pd.read_csv('BX-Users.csv', sep=';', error_bad_lines=False, encoding=\"latin-1\",warn_bad_lines=False);\n",
    "\tusers.columns = ['userID', 'Location', 'Age'];\n",
    "\tratings_new = ratings[ratings.ISBN.isin(books.ISBN)]\n",
    "\tratings_new = ratings_new[ratings.userID.isin(users.userID)]\n",
    "\tratings_explicit = ratings_new[ratings_new.bookRating != 0]\n",
    "\tcounts1 = pd.value_counts(ratings_explicit['userID'])\n",
    "\tratings_explicit = ratings_explicit[ratings_explicit['userID'].isin(counts1[counts1 >= 500].index)]\n",
    "\tfrom surprise import Dataset,Reader\n",
    "\treader = Reader(rating_scale=(1, 10))\n",
    "\tdata = Dataset.load_from_df(ratings_explicit[['userID', 'ISBN', 'bookRating']], reader)\n",
    "\treader = Reader(rating_scale=(1, 10))\n",
    "\tdata = Dataset.load_from_df(ratings_explicit[['userID', 'ISBN', 'bookRating']], reader)\n",
    "\tfrom surprise.model_selection import train_test_split\n",
    "\ttrainset, testset = train_test_split(data, test_size=.25,random_state=123)\n",
    "\ttest_pred=model.test(testset)\n",
    "\tpred = pd.DataFrame(test_pred)\n",
    "\tpred1 = pred[['uid', 'iid', 'r_ui']]\n",
    "\tbooks1 = books[['ISBN', 'bookTitle', 'bookAuthor']]\n",
    "\tbooks1.columns = ['iid', 'bookTitle', 'bookAuthor']\n",
    "\tdf = pd.merge(pred1, books1, on='iid')\n",
    "\treturn str(uid) + \"::\" + str(df[df['uid'] == uid][['bookTitle', 'bookAuthor']].head(10))"
   ]
  },
  {
   "cell_type": "code",
   "execution_count": 8,
   "metadata": {
    "execution": {
     "iopub.execute_input": "2022-12-30T12:59:55.824377Z",
     "iopub.status.busy": "2022-12-30T12:59:55.824006Z",
     "iopub.status.idle": "2022-12-30T12:59:55.837321Z",
     "shell.execute_reply": "2022-12-30T12:59:55.835326Z",
     "shell.execute_reply.started": "2022-12-30T12:59:55.824346Z"
    }
   },
   "outputs": [],
   "source": [
    "def beginning_books():\n",
    "\tmodel = pickle.load(open('model.sav', 'rb'))\n",
    "\tratings = pd.read_csv('BX-Book-Ratings.csv', sep=';', error_bad_lines=False, encoding=\"latin-1\",warn_bad_lines=False)\n",
    "\tratings.columns = ['userID', 'ISBN', 'bookRating']\n",
    "\tbooks = pd.read_csv(\"BX-Books.csv\", sep=\";\", error_bad_lines=False, encoding=\"latin-1\",warn_bad_lines=False);\n",
    "\tbooks.columns = ['ISBN', 'bookTitle', 'bookAuthor', 'yearOfPublication', 'publisher', 'imageUrlS', 'imageUrlM', 'imageUrlL'];\n",
    "\tusers = pd.read_csv('BX-Users.csv', sep=';', error_bad_lines=False, encoding=\"latin-1\",warn_bad_lines=False);\n",
    "\tusers.columns = ['userID', 'Location', 'Age'];\n",
    "\tratings_new = ratings[ratings.ISBN.isin(books.ISBN)]\n",
    "\tratings_new = ratings_new[ratings.userID.isin(users.userID)]\n",
    "\tratings_explicit = ratings_new[ratings_new.bookRating != 0]\n",
    "\tcounts1 = pd.value_counts(ratings_explicit['userID'])\n",
    "\tratings_explicit = ratings_explicit[ratings_explicit['userID'].isin(counts1[counts1 >= 500].index)]\n",
    "\tpred1 = ratings_explicit\n",
    "\tbooks1 = books[['ISBN', 'bookTitle', 'bookAuthor']]\n",
    "\tdf = pd.merge(pred1, books1, on='ISBN')\n",
    "\tres = []\n",
    "\tfor i in range(10):\n",
    "\t\tuid = np.random.choice(list(np.unique(df['userID'].values)))\n",
    "\t\tres.append(str(uid) + \"::\" + str(df[df['userID'] == uid][['bookTitle', 'bookAuthor']].head(10)))\n",
    "\treturn res"
   ]
  },
  {
   "cell_type": "code",
   "execution_count": 9,
   "metadata": {
    "execution": {
     "iopub.execute_input": "2022-12-30T13:05:05.134912Z",
     "iopub.status.busy": "2022-12-30T13:05:05.134498Z",
     "iopub.status.idle": "2022-12-30T13:05:07.953061Z",
     "shell.execute_reply": "2022-12-30T13:05:07.951185Z",
     "shell.execute_reply.started": "2022-12-30T13:05:05.134855Z"
    }
   },
   "outputs": [
    {
     "data": {
      "text/plain": [
       "[\"197659::                                         bookTitle        bookAuthor\\n97                               The Fourth Estate    Jeffrey Archer\\n151                           A Light in the Attic  Shel Silverstein\\n307   Dance Hall of the Dead (Joe Leaphorn Novels)    Tony Hillerman\\n343                              White Shell Woman     James D. Doss\\n456               Charlotte's Web (Trophy Newbery)       E. B. White\\n758    A Long Way from Chicago: A Novel in Stories      Richard Peck\\n1438                                   Naked Sun 2      Isaac Asimov\\n1525                                         Congo  Michael Crichton\\n1639                                  The Talisman      STEPHEN KING\\n1955                                   Black House      Stephen King\",\n",
       " \"158295::                                              bookTitle           bookAuthor\\n125                                         Burn Factor           Kyle Mills\\n186                                      Bare Necessity      Carole Matthews\\n314          Skinwalkers (Joe Leaphorn/Jim Chee Novels)       Tony Hillerman\\n345                                    Courting Trouble      Lisa Scottoline\\n415                                         Burn Factor           Kyle Mills\\n928   Disney's Pooh's Grand Adventure the Search for...       Justine Korman\\n1092                         In the Presence of Enemies  William J. Coughlin\\n1116  Three To Get Deadly : A Stephanie Plum Novel (...      Janet Evanovich\\n1120             Four To Score (A Stephanie Plum Novel)      Janet Evanovich\\n1255                          The Lovely Bones: A Novel         Alice Sebold\",\n",
       " \"114368::                                        bookTitle            bookAuthor\\n199                         When the Storm Breaks        Heather Lowell\\n372                                Chase the Moon           Sharon Sala\\n444                     Farmer Boy (Little House)  Laura Ingalls Wilder\\n447                    On the Banks of Plum Creek  Laura Ingalls Wilder\\n449   By the Shores of Silver Lake (Little House)  Laura Ingalls Wilder\\n451       These Happy Golden Years (Little House)  Laura Ingalls Wilder\\n453           The First Four Years (Little House)  Laura Ingalls Wilder\\n459                    Mrs. Piggle-Wiggle's Magic       Betty MacDonald\\n1132                        Welcome to Temptation       Jennifer Crusie\\n1154                                   Fast Women       Jennifer Crusie\",\n",
       " \"93047::                                              bookTitle        bookAuthor\\n50                     The Man Who Could Call Down Owls       Eve Bunting\\n118   Everest : Triumph and Tragedy on the World's H...    Matt Dickinson\\n189                                         Mr. Timothy      Louis Bayard\\n228   The Lost Continent: Travels in Small-Town America       Bill Bryson\\n270   The Man Who Mistook His Wife for a Hat: And Ot...      Oliver Sacks\\n334   The Perfect Storm : A True Story of Men Agains...  Sebastian Junger\\n484   The Bad Beginning (A Series of Unfortunate Eve...    Lemony Snicket\\n571                   Backtrack (Penguin Crime Fiction)     Joseph Hansen\\n591                               84 Charing Cross Road      Helene Hanff\\n1428                                       On the Beach       NEVIL SHUTE\",\n",
       " \"197659::                                         bookTitle        bookAuthor\\n97                               The Fourth Estate    Jeffrey Archer\\n151                           A Light in the Attic  Shel Silverstein\\n307   Dance Hall of the Dead (Joe Leaphorn Novels)    Tony Hillerman\\n343                              White Shell Woman     James D. Doss\\n456               Charlotte's Web (Trophy Newbery)       E. B. White\\n758    A Long Way from Chicago: A Novel in Stories      Richard Peck\\n1438                                   Naked Sun 2      Isaac Asimov\\n1525                                         Congo  Michael Crichton\\n1639                                  The Talisman      STEPHEN KING\\n1955                                   Black House      Stephen King\",\n",
       " '56399::                                              bookTitle      bookAuthor\\n305        Dance Hall of the Dead (Joe Leaphorn Novels)  Tony Hillerman\\n311      A Thief of Time (Joe Leaphorn/Jim Chee Novels)  Tony Hillerman\\n411                   The First Eagle (Jim Chee Novels)  Tony Hillerman\\n418                       Talking God (Jim Chee Novels)  Tony Hillerman\\n422         Coyote Waits (Joe Leaphorn/Jim Chee Novels)  Tony Hillerman\\n566                                     The Tao of Pooh   Benjamin Hoff\\n590                               84 Charing Cross Road    Helene Hanff\\n636   Longitude: The True Story of a Lone Genius Who...      Dava Sobel\\n804                                     The Owl Service     Alan Garner\\n1319                                     Riddley Walker   Russell Hoban',\n",
       " \"16795::                                             bookTitle  \\\\\\n195                    Patron Saint of Liars : A Novel   \\n320  One for the Money (Stephanie Plum Novels (Pape...   \\n433  The Alchemist: A Fable About Following Your Dream   \\n462                                  The Secret Garden   \\n483  The Bad Beginning (A Series of Unfortunate Eve...   \\n486  The Reptile Room (A Series of Unfortunate Even...   \\n515      Fried Green Tomatoes at the Whistle Stop Cafe   \\n768                                         Icy Sparks   \\n793                                         Life of Pi   \\n917        Disney's the Lion King (Little Golden Book)   \\n\\n                  bookAuthor  \\n195             Ann Patchett  \\n320          Janet Evanovich  \\n433             Paulo Coelho  \\n462  Frances Hodgson Burnett  \\n483           Lemony Snicket  \\n486           Lemony Snicket  \\n515             Fannie Flagg  \\n768         Gwyn Hyman Rubio  \\n793              Yann Martel  \\n917           Justine Korman  \",\n",
       " \"11676::                                           bookTitle               bookAuthor\\n0                    Count Duckula: Vampire Vacation         Maureen Spurgeon\\n1                                       Clara Callan     Richard Bruce Wright\\n2                                Audacity to believe           Sheila Cassidy\\n3  The Financial post selects the 100 best compan...                Eva Innes\\n4                     Nigel Mansell My Autobiography            Nigel Mansell\\n5  Santa Speaks: The Wit and Wisdom of Santas Acr...  Michael Patrick Collins\\n6               Love Isn't Easy (Passionate Peanuts)        Charles M. Schulz\\n7  Leaning, leaning over water: A novel in ten st...            Frances Itani\\n8                     Is Shane MacGowan Still Alive?             Tim Bradford\\n9                                       MARBLE HEART         Gretta Mulrooney\",\n",
       " \"93047::                                              bookTitle        bookAuthor\\n50                     The Man Who Could Call Down Owls       Eve Bunting\\n118   Everest : Triumph and Tragedy on the World's H...    Matt Dickinson\\n189                                         Mr. Timothy      Louis Bayard\\n228   The Lost Continent: Travels in Small-Town America       Bill Bryson\\n270   The Man Who Mistook His Wife for a Hat: And Ot...      Oliver Sacks\\n334   The Perfect Storm : A True Story of Men Agains...  Sebastian Junger\\n484   The Bad Beginning (A Series of Unfortunate Eve...    Lemony Snicket\\n571                   Backtrack (Penguin Crime Fiction)     Joseph Hansen\\n591                               84 Charing Cross Road      Helene Hanff\\n1428                                       On the Beach       NEVIL SHUTE\",\n",
       " '235105::                                             bookTitle           bookAuthor\\n61   Engaged to Die : A Death on Demand Mystery (Ha...         Carolyn Hart\\n76                              Mr. Paradise:  A Novel       Elmore Leonard\\n128                 The Sinister Pig (Hillerman, Tony)       Tony Hillerman\\n130                                   The Wailing Wind       Tony Hillerman\\n178                    Killer Smile (Scottoline, Lisa)      Lisa Scottoline\\n282                              Thank You for Smoking  Christopher Buckley\\n308       Dance Hall of the Dead (Joe Leaphorn Novels)       Tony Hillerman\\n326    A Brace of Bloodhounds (Bloodhound (Paperback))      Virginia Lanier\\n393                                         Lily White         Susan Isaacs\\n505  Krakatoa : The Day the World Exploded: August ...     Simon Winchester']"
      ]
     },
     "execution_count": 9,
     "metadata": {},
     "output_type": "execute_result"
    }
   ],
   "source": [
    "beginning_books()"
   ]
  },
  {
   "cell_type": "code",
   "execution_count": 13,
   "metadata": {
    "execution": {
     "iopub.execute_input": "2022-12-30T13:05:08.593862Z",
     "iopub.status.busy": "2022-12-30T13:05:08.593474Z",
     "iopub.status.idle": "2022-12-30T13:05:16.320833Z",
     "shell.execute_reply": "2022-12-30T13:05:16.319694Z",
     "shell.execute_reply.started": "2022-12-30T13:05:08.593828Z"
    }
   },
   "outputs": [
    {
     "data": {
      "text/plain": [
       "'158295::                                             bookTitle      bookAuthor\\n6                   Homeopathy for Babies and Children    Trevor Smith\\n51   N Is for Noose (Kinsey Millhone Mysteries (Har...     Sue Grafton\\n189     Stealing Shadows (Shadows Trilogy (Paperback))      Kay Hooper\\n190                                          Flashback  Michael Palmer\\n195                                        Burn Factor      Kyle Mills\\n226  Tippy-Toe Murder: A Lucy Stone Mystery (Lucy S...    Leslie Meier\\n262  The Drawing of the Three (The Dark Tower, Book 2)    Stephen King\\n268                                       Dreamcatcher    Stephen King\\n312  O Is for Outlaw (Kinsey Millhone Mysteries (Au...     Sue Grafton\\n538                                \\\\O\\\\\" Is for Outlaw\"     Sue Grafton'"
      ]
     },
     "execution_count": 13,
     "metadata": {},
     "output_type": "execute_result"
    }
   ],
   "source": [
    "prediction_books(158295)"
   ]
  },
  {
   "cell_type": "code",
   "execution_count": null,
   "metadata": {},
   "outputs": [],
   "source": []
  }
 ],
 "metadata": {
  "kernelspec": {
   "display_name": "Python 3 (ipykernel)",
   "language": "python",
   "name": "python3"
  },
  "language_info": {
   "codemirror_mode": {
    "name": "ipython",
    "version": 3
   },
   "file_extension": ".py",
   "mimetype": "text/x-python",
   "name": "python",
   "nbconvert_exporter": "python",
   "pygments_lexer": "ipython3",
   "version": "3.7.15"
  }
 },
 "nbformat": 4,
 "nbformat_minor": 4
}
